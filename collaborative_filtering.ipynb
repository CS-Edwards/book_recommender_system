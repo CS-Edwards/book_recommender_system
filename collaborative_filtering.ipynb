{
 "cells": [
  {
   "cell_type": "code",
   "execution_count": null,
   "id": "8d0609dc-25e9-456e-99d8-ba4a95cd1eec",
   "metadata": {},
   "outputs": [],
   "source": []
  },
  {
   "cell_type": "markdown",
   "id": "3e88e5ff-fcb7-48c9-81ed-1f01186d17d3",
   "metadata": {},
   "source": [
    "This notebook is guided by the Book Recommender System article by Susan Li (2017) in [Toward Data Science](https://towardsdatascience.com/how-did-we-build-book-recommender-systems-in-an-hour-part-2-k-nearest-neighbors-and-matrix-c04b3c2ef55c). I've provided additional explantory notes and resources for my own understanding; and modified the code from the original project to provide additonal functionality and analysis. Other modification have been made to account for incomplete code and depreciated methods/techniques used in the initial article."
   ]
  },
  {
   "cell_type": "markdown",
   "id": "d2f5b142-46dd-4f16-b7dc-52658141cbce",
   "metadata": {},
   "source": [
    "### Collaborative Filtering\n",
    "- Purpose\n",
    "- Similarity : Cosine Similarity"
   ]
  },
  {
   "cell_type": "code",
   "execution_count": 35,
   "id": "55a030ec-f49f-4241-be97-2d28ee1f978a",
   "metadata": {},
   "outputs": [],
   "source": [
    "import pandas as pd\n",
    "import numpy as np\n",
    "import matplotlib.pyplot as plt\n",
    "from scipy.sparse import csr_matrix\n",
    "import sklearn\n",
    "from sklearn.decomposition import TruncatedSVD"
   ]
  },
  {
   "cell_type": "markdown",
   "id": "a80e0e0b-55b9-4de8-97a3-1d8557952ddc",
   "metadata": {
    "tags": []
   },
   "source": [
    "### Data Summary and Import\n",
    "The Book-Crossing Dataset was sourced from the Institut Fur Informatik Freiburg website. Full citation can be found in the Resouces section of this notebook. \n",
    "\n",
    "The Book-Crossing dataset comprises 3 tables.\n",
    "\n",
    "+ BX-Users\n",
    "> Contains the users. Note that user IDs (`User-ID`) have been anonymized and map to integers. Demographic data is provided (`Location`, `Age`) if available. Otherwise, these fields contain NULL-values.\n",
    "\n",
    "+ BX-Books\n",
    "> Books are identified by their respective ISBN. Invalid ISBNs have already been removed from the dataset. Moreover, some content-based information is given (`Book-Title`, `Book-Author`, `Year-Of-Publication`, `Publisher`), obtained from Amazon Web Services. Note that in case of several authors, only the first is provided. URLs linking to cover images are also given, appearing in three different flavours (`Image-URL-S`, `Image-URL-M`, `Image-URL-L`), i.e., small, medium, large. These URLs point to the Amazon web site.\n",
    "\n",
    "+ BX-Book-Ratings\n",
    "> Contains the book rating information. Ratings (`Book-Rating`) are either explicit, expressed on a scale from 1-10 (higher values denoting higher appreciation), or implicit, expressed by 0."
   ]
  },
  {
   "cell_type": "code",
   "execution_count": 5,
   "id": "4ca188c1-9eb4-4940-9a70-d3c9bfb4e963",
   "metadata": {},
   "outputs": [
    {
     "name": "stderr",
     "output_type": "stream",
     "text": [
      "/tmp/ipykernel_87/1814702560.py:1: DtypeWarning: Columns (3) have mixed types. Specify dtype option on import or set low_memory=False.\n",
      "  book = pd.read_csv('data/BX-Books.csv', sep=';', on_bad_lines= 'skip', encoding = \"latin-1\")\n"
     ]
    }
   ],
   "source": [
    "book = pd.read_csv('data/BX-Books.csv', sep=';', on_bad_lines= 'skip', encoding = \"latin-1\")\n",
    "book.columns = ['ISBN','bookTitle', 'bookAuthor','yearOfPublication','publisher','imageUrlS','imageUrlM','imageUrlL']\n",
    "user = pd.read_csv('data/BX-Users.csv', sep=';', on_bad_lines= 'skip', encoding = \"latin-1\")\n",
    "user.columns= ['userID','Location','Age']\n",
    "rating = pd.read_csv('data/BX-Book-Ratings.csv', sep=';', on_bad_lines= 'skip', encoding = \"latin-1\")\n",
    "rating.columns = ['userID','ISBN','bookRating']\n",
    "\n",
    "# DTypeWarning on BX-Books.csv import\n",
    "\n"
   ]
  },
  {
   "cell_type": "markdown",
   "id": "355e58bb-1670-4d57-802c-649fa5e48db9",
   "metadata": {},
   "source": [
    "#####  Book Dataframe Info"
   ]
  },
  {
   "cell_type": "code",
   "execution_count": 6,
   "id": "59c97018-3c00-486b-83c9-480dc85ab1a0",
   "metadata": {},
   "outputs": [
    {
     "data": {
      "text/html": [
       "<div>\n",
       "<style scoped>\n",
       "    .dataframe tbody tr th:only-of-type {\n",
       "        vertical-align: middle;\n",
       "    }\n",
       "\n",
       "    .dataframe tbody tr th {\n",
       "        vertical-align: top;\n",
       "    }\n",
       "\n",
       "    .dataframe thead th {\n",
       "        text-align: right;\n",
       "    }\n",
       "</style>\n",
       "<table border=\"1\" class=\"dataframe\">\n",
       "  <thead>\n",
       "    <tr style=\"text-align: right;\">\n",
       "      <th></th>\n",
       "      <th>ISBN</th>\n",
       "      <th>bookTitle</th>\n",
       "      <th>bookAuthor</th>\n",
       "      <th>yearOfPublication</th>\n",
       "      <th>publisher</th>\n",
       "      <th>imageUrlS</th>\n",
       "      <th>imageUrlM</th>\n",
       "      <th>imageUrlL</th>\n",
       "    </tr>\n",
       "  </thead>\n",
       "  <tbody>\n",
       "    <tr>\n",
       "      <th>0</th>\n",
       "      <td>0195153448</td>\n",
       "      <td>Classical Mythology</td>\n",
       "      <td>Mark P. O. Morford</td>\n",
       "      <td>2002</td>\n",
       "      <td>Oxford University Press</td>\n",
       "      <td>http://images.amazon.com/images/P/0195153448.0...</td>\n",
       "      <td>http://images.amazon.com/images/P/0195153448.0...</td>\n",
       "      <td>http://images.amazon.com/images/P/0195153448.0...</td>\n",
       "    </tr>\n",
       "    <tr>\n",
       "      <th>1</th>\n",
       "      <td>0002005018</td>\n",
       "      <td>Clara Callan</td>\n",
       "      <td>Richard Bruce Wright</td>\n",
       "      <td>2001</td>\n",
       "      <td>HarperFlamingo Canada</td>\n",
       "      <td>http://images.amazon.com/images/P/0002005018.0...</td>\n",
       "      <td>http://images.amazon.com/images/P/0002005018.0...</td>\n",
       "      <td>http://images.amazon.com/images/P/0002005018.0...</td>\n",
       "    </tr>\n",
       "    <tr>\n",
       "      <th>2</th>\n",
       "      <td>0060973129</td>\n",
       "      <td>Decision in Normandy</td>\n",
       "      <td>Carlo D'Este</td>\n",
       "      <td>1991</td>\n",
       "      <td>HarperPerennial</td>\n",
       "      <td>http://images.amazon.com/images/P/0060973129.0...</td>\n",
       "      <td>http://images.amazon.com/images/P/0060973129.0...</td>\n",
       "      <td>http://images.amazon.com/images/P/0060973129.0...</td>\n",
       "    </tr>\n",
       "    <tr>\n",
       "      <th>3</th>\n",
       "      <td>0374157065</td>\n",
       "      <td>Flu: The Story of the Great Influenza Pandemic...</td>\n",
       "      <td>Gina Bari Kolata</td>\n",
       "      <td>1999</td>\n",
       "      <td>Farrar Straus Giroux</td>\n",
       "      <td>http://images.amazon.com/images/P/0374157065.0...</td>\n",
       "      <td>http://images.amazon.com/images/P/0374157065.0...</td>\n",
       "      <td>http://images.amazon.com/images/P/0374157065.0...</td>\n",
       "    </tr>\n",
       "    <tr>\n",
       "      <th>4</th>\n",
       "      <td>0393045218</td>\n",
       "      <td>The Mummies of Urumchi</td>\n",
       "      <td>E. J. W. Barber</td>\n",
       "      <td>1999</td>\n",
       "      <td>W. W. Norton &amp;amp; Company</td>\n",
       "      <td>http://images.amazon.com/images/P/0393045218.0...</td>\n",
       "      <td>http://images.amazon.com/images/P/0393045218.0...</td>\n",
       "      <td>http://images.amazon.com/images/P/0393045218.0...</td>\n",
       "    </tr>\n",
       "  </tbody>\n",
       "</table>\n",
       "</div>"
      ],
      "text/plain": [
       "         ISBN                                          bookTitle  \\\n",
       "0  0195153448                                Classical Mythology   \n",
       "1  0002005018                                       Clara Callan   \n",
       "2  0060973129                               Decision in Normandy   \n",
       "3  0374157065  Flu: The Story of the Great Influenza Pandemic...   \n",
       "4  0393045218                             The Mummies of Urumchi   \n",
       "\n",
       "             bookAuthor yearOfPublication                   publisher  \\\n",
       "0    Mark P. O. Morford              2002     Oxford University Press   \n",
       "1  Richard Bruce Wright              2001       HarperFlamingo Canada   \n",
       "2          Carlo D'Este              1991             HarperPerennial   \n",
       "3      Gina Bari Kolata              1999        Farrar Straus Giroux   \n",
       "4       E. J. W. Barber              1999  W. W. Norton &amp; Company   \n",
       "\n",
       "                                           imageUrlS  \\\n",
       "0  http://images.amazon.com/images/P/0195153448.0...   \n",
       "1  http://images.amazon.com/images/P/0002005018.0...   \n",
       "2  http://images.amazon.com/images/P/0060973129.0...   \n",
       "3  http://images.amazon.com/images/P/0374157065.0...   \n",
       "4  http://images.amazon.com/images/P/0393045218.0...   \n",
       "\n",
       "                                           imageUrlM  \\\n",
       "0  http://images.amazon.com/images/P/0195153448.0...   \n",
       "1  http://images.amazon.com/images/P/0002005018.0...   \n",
       "2  http://images.amazon.com/images/P/0060973129.0...   \n",
       "3  http://images.amazon.com/images/P/0374157065.0...   \n",
       "4  http://images.amazon.com/images/P/0393045218.0...   \n",
       "\n",
       "                                           imageUrlL  \n",
       "0  http://images.amazon.com/images/P/0195153448.0...  \n",
       "1  http://images.amazon.com/images/P/0002005018.0...  \n",
       "2  http://images.amazon.com/images/P/0060973129.0...  \n",
       "3  http://images.amazon.com/images/P/0374157065.0...  \n",
       "4  http://images.amazon.com/images/P/0393045218.0...  "
      ]
     },
     "execution_count": 6,
     "metadata": {},
     "output_type": "execute_result"
    }
   ],
   "source": [
    "book.head()"
   ]
  },
  {
   "cell_type": "code",
   "execution_count": 17,
   "id": "c1572dfd-ea89-4c03-911a-60b2a8834a12",
   "metadata": {},
   "outputs": [
    {
     "name": "stdout",
     "output_type": "stream",
     "text": [
      "book dataframe has 271360 records and 8 features\n"
     ]
    }
   ],
   "source": [
    "b_records, b_attributes = book.shape\n",
    "print(f'book dataframe has {b_records} records and {b_attributes} features')"
   ]
  },
  {
   "cell_type": "markdown",
   "id": "94db06ec-3480-4a75-bfe1-eb52e9913436",
   "metadata": {},
   "source": [
    "#####  User Dataframe Info\n"
   ]
  },
  {
   "cell_type": "code",
   "execution_count": 9,
   "id": "9745e1fb-e2d4-4bcc-b11d-59fb9537a98b",
   "metadata": {},
   "outputs": [
    {
     "data": {
      "text/html": [
       "<div>\n",
       "<style scoped>\n",
       "    .dataframe tbody tr th:only-of-type {\n",
       "        vertical-align: middle;\n",
       "    }\n",
       "\n",
       "    .dataframe tbody tr th {\n",
       "        vertical-align: top;\n",
       "    }\n",
       "\n",
       "    .dataframe thead th {\n",
       "        text-align: right;\n",
       "    }\n",
       "</style>\n",
       "<table border=\"1\" class=\"dataframe\">\n",
       "  <thead>\n",
       "    <tr style=\"text-align: right;\">\n",
       "      <th></th>\n",
       "      <th>userID</th>\n",
       "      <th>Location</th>\n",
       "      <th>Age</th>\n",
       "    </tr>\n",
       "  </thead>\n",
       "  <tbody>\n",
       "    <tr>\n",
       "      <th>0</th>\n",
       "      <td>1</td>\n",
       "      <td>nyc, new york, usa</td>\n",
       "      <td>NaN</td>\n",
       "    </tr>\n",
       "    <tr>\n",
       "      <th>1</th>\n",
       "      <td>2</td>\n",
       "      <td>stockton, california, usa</td>\n",
       "      <td>18.0</td>\n",
       "    </tr>\n",
       "    <tr>\n",
       "      <th>2</th>\n",
       "      <td>3</td>\n",
       "      <td>moscow, yukon territory, russia</td>\n",
       "      <td>NaN</td>\n",
       "    </tr>\n",
       "    <tr>\n",
       "      <th>3</th>\n",
       "      <td>4</td>\n",
       "      <td>porto, v.n.gaia, portugal</td>\n",
       "      <td>17.0</td>\n",
       "    </tr>\n",
       "    <tr>\n",
       "      <th>4</th>\n",
       "      <td>5</td>\n",
       "      <td>farnborough, hants, united kingdom</td>\n",
       "      <td>NaN</td>\n",
       "    </tr>\n",
       "  </tbody>\n",
       "</table>\n",
       "</div>"
      ],
      "text/plain": [
       "   userID                            Location   Age\n",
       "0       1                  nyc, new york, usa   NaN\n",
       "1       2           stockton, california, usa  18.0\n",
       "2       3     moscow, yukon territory, russia   NaN\n",
       "3       4           porto, v.n.gaia, portugal  17.0\n",
       "4       5  farnborough, hants, united kingdom   NaN"
      ]
     },
     "execution_count": 9,
     "metadata": {},
     "output_type": "execute_result"
    }
   ],
   "source": [
    "user.head()"
   ]
  },
  {
   "cell_type": "code",
   "execution_count": 18,
   "id": "4da6a7fe-4ec1-4c84-aab4-a6056f4caeaf",
   "metadata": {},
   "outputs": [
    {
     "name": "stdout",
     "output_type": "stream",
     "text": [
      "user data frame has 278858 records and 3 features\n"
     ]
    }
   ],
   "source": [
    "u_records, u_attributes = user.shape\n",
    "print(f'user data frame has {u_records} records and {u_attributes} features')"
   ]
  },
  {
   "cell_type": "markdown",
   "id": "28368758-a304-44f3-8ff8-efd6d574e6d1",
   "metadata": {},
   "source": [
    "#####  Rating Dataframe Info"
   ]
  },
  {
   "cell_type": "code",
   "execution_count": 8,
   "id": "78a55852-0a07-4148-8b42-15a43fc642c0",
   "metadata": {},
   "outputs": [
    {
     "data": {
      "text/html": [
       "<div>\n",
       "<style scoped>\n",
       "    .dataframe tbody tr th:only-of-type {\n",
       "        vertical-align: middle;\n",
       "    }\n",
       "\n",
       "    .dataframe tbody tr th {\n",
       "        vertical-align: top;\n",
       "    }\n",
       "\n",
       "    .dataframe thead th {\n",
       "        text-align: right;\n",
       "    }\n",
       "</style>\n",
       "<table border=\"1\" class=\"dataframe\">\n",
       "  <thead>\n",
       "    <tr style=\"text-align: right;\">\n",
       "      <th></th>\n",
       "      <th>userID</th>\n",
       "      <th>ISBN</th>\n",
       "      <th>bookRating</th>\n",
       "    </tr>\n",
       "  </thead>\n",
       "  <tbody>\n",
       "    <tr>\n",
       "      <th>0</th>\n",
       "      <td>276725</td>\n",
       "      <td>034545104X</td>\n",
       "      <td>0</td>\n",
       "    </tr>\n",
       "    <tr>\n",
       "      <th>1</th>\n",
       "      <td>276726</td>\n",
       "      <td>0155061224</td>\n",
       "      <td>5</td>\n",
       "    </tr>\n",
       "    <tr>\n",
       "      <th>2</th>\n",
       "      <td>276727</td>\n",
       "      <td>0446520802</td>\n",
       "      <td>0</td>\n",
       "    </tr>\n",
       "    <tr>\n",
       "      <th>3</th>\n",
       "      <td>276729</td>\n",
       "      <td>052165615X</td>\n",
       "      <td>3</td>\n",
       "    </tr>\n",
       "    <tr>\n",
       "      <th>4</th>\n",
       "      <td>276729</td>\n",
       "      <td>0521795028</td>\n",
       "      <td>6</td>\n",
       "    </tr>\n",
       "  </tbody>\n",
       "</table>\n",
       "</div>"
      ],
      "text/plain": [
       "   userID        ISBN  bookRating\n",
       "0  276725  034545104X           0\n",
       "1  276726  0155061224           5\n",
       "2  276727  0446520802           0\n",
       "3  276729  052165615X           3\n",
       "4  276729  0521795028           6"
      ]
     },
     "execution_count": 8,
     "metadata": {},
     "output_type": "execute_result"
    }
   ],
   "source": [
    "rating.head()"
   ]
  },
  {
   "cell_type": "code",
   "execution_count": 19,
   "id": "9fac1634-fb9d-4a9d-977a-a4f628a52b10",
   "metadata": {},
   "outputs": [
    {
     "name": "stdout",
     "output_type": "stream",
     "text": [
      "rating data frame has 1149780 records and 3 features\n"
     ]
    }
   ],
   "source": [
    "r_records, r_attributes = rating.shape\n",
    "print(f'rating data frame has {r_records} records and {r_attributes} features')"
   ]
  },
  {
   "cell_type": "markdown",
   "id": "5a39da37-f605-4216-970d-c91c6b8d120b",
   "metadata": {},
   "source": [
    "### Data Wrangling\n",
    "\n",
    "In this section we will combine the `book` and `rating` dataframes to find the most popular books and calculate a new field `totalRatingCount`, then review the statistics of the field. The `totalRatingcount` will allow us to query our new dataframe for books that meet a specified ratings count threshold. In this case we will use data from books that have received atleast 50 ratings to create our recommender system. "
   ]
  },
  {
   "cell_type": "code",
   "execution_count": 27,
   "id": "aac93938-e575-43b0-b999-e405f66d4059",
   "metadata": {},
   "outputs": [
    {
     "data": {
      "text/html": [
       "<div>\n",
       "<style scoped>\n",
       "    .dataframe tbody tr th:only-of-type {\n",
       "        vertical-align: middle;\n",
       "    }\n",
       "\n",
       "    .dataframe tbody tr th {\n",
       "        vertical-align: top;\n",
       "    }\n",
       "\n",
       "    .dataframe thead th {\n",
       "        text-align: right;\n",
       "    }\n",
       "</style>\n",
       "<table border=\"1\" class=\"dataframe\">\n",
       "  <thead>\n",
       "    <tr style=\"text-align: right;\">\n",
       "      <th></th>\n",
       "      <th>userID</th>\n",
       "      <th>ISBN</th>\n",
       "      <th>bookRating</th>\n",
       "      <th>bookTitle</th>\n",
       "    </tr>\n",
       "  </thead>\n",
       "  <tbody>\n",
       "    <tr>\n",
       "      <th>0</th>\n",
       "      <td>276725</td>\n",
       "      <td>034545104X</td>\n",
       "      <td>0</td>\n",
       "      <td>Flesh Tones: A Novel</td>\n",
       "    </tr>\n",
       "    <tr>\n",
       "      <th>1</th>\n",
       "      <td>2313</td>\n",
       "      <td>034545104X</td>\n",
       "      <td>5</td>\n",
       "      <td>Flesh Tones: A Novel</td>\n",
       "    </tr>\n",
       "    <tr>\n",
       "      <th>2</th>\n",
       "      <td>6543</td>\n",
       "      <td>034545104X</td>\n",
       "      <td>0</td>\n",
       "      <td>Flesh Tones: A Novel</td>\n",
       "    </tr>\n",
       "    <tr>\n",
       "      <th>3</th>\n",
       "      <td>8680</td>\n",
       "      <td>034545104X</td>\n",
       "      <td>5</td>\n",
       "      <td>Flesh Tones: A Novel</td>\n",
       "    </tr>\n",
       "    <tr>\n",
       "      <th>4</th>\n",
       "      <td>10314</td>\n",
       "      <td>034545104X</td>\n",
       "      <td>9</td>\n",
       "      <td>Flesh Tones: A Novel</td>\n",
       "    </tr>\n",
       "  </tbody>\n",
       "</table>\n",
       "</div>"
      ],
      "text/plain": [
       "   userID        ISBN  bookRating             bookTitle\n",
       "0  276725  034545104X           0  Flesh Tones: A Novel\n",
       "1    2313  034545104X           5  Flesh Tones: A Novel\n",
       "2    6543  034545104X           0  Flesh Tones: A Novel\n",
       "3    8680  034545104X           5  Flesh Tones: A Novel\n",
       "4   10314  034545104X           9  Flesh Tones: A Novel"
      ]
     },
     "execution_count": 27,
     "metadata": {},
     "output_type": "execute_result"
    }
   ],
   "source": [
    "#merge books and rating based on ISBN (unique identifier)\n",
    "book_rating = pd.merge(rating,book,on='ISBN') \n",
    "\n",
    "\n",
    "#columns to be removed \n",
    "columns = ['yearOfPublication','publisher','bookAuthor','imageUrlS','imageUrlM','imageUrlL'] \n",
    "book_rating = book_rating.drop(columns,axis=1) \n",
    "\n",
    "book_rating.head()"
   ]
  },
  {
   "cell_type": "code",
   "execution_count": 29,
   "id": "569a3aa4-1dea-4a31-9a14-bd3d8144e65e",
   "metadata": {},
   "outputs": [],
   "source": [
    "#drop index with missing booktitle\n",
    "book_rating = book_rating.dropna(axis=0,subset=['bookTitle'])"
   ]
  },
  {
   "cell_type": "code",
   "execution_count": 30,
   "id": "d34abf19-46fe-4138-a4d0-262420770c63",
   "metadata": {},
   "outputs": [
    {
     "data": {
      "text/html": [
       "<div>\n",
       "<style scoped>\n",
       "    .dataframe tbody tr th:only-of-type {\n",
       "        vertical-align: middle;\n",
       "    }\n",
       "\n",
       "    .dataframe tbody tr th {\n",
       "        vertical-align: top;\n",
       "    }\n",
       "\n",
       "    .dataframe thead th {\n",
       "        text-align: right;\n",
       "    }\n",
       "</style>\n",
       "<table border=\"1\" class=\"dataframe\">\n",
       "  <thead>\n",
       "    <tr style=\"text-align: right;\">\n",
       "      <th></th>\n",
       "      <th>bookTitle</th>\n",
       "      <th>totalRatingCount</th>\n",
       "    </tr>\n",
       "  </thead>\n",
       "  <tbody>\n",
       "    <tr>\n",
       "      <th>0</th>\n",
       "      <td>A Light in the Storm: The Civil War Diary of ...</td>\n",
       "      <td>4</td>\n",
       "    </tr>\n",
       "    <tr>\n",
       "      <th>1</th>\n",
       "      <td>Always Have Popsicles</td>\n",
       "      <td>1</td>\n",
       "    </tr>\n",
       "    <tr>\n",
       "      <th>2</th>\n",
       "      <td>Apple Magic (The Collector's series)</td>\n",
       "      <td>1</td>\n",
       "    </tr>\n",
       "    <tr>\n",
       "      <th>3</th>\n",
       "      <td>Ask Lily (Young Women of Faith: Lily Series, ...</td>\n",
       "      <td>1</td>\n",
       "    </tr>\n",
       "    <tr>\n",
       "      <th>4</th>\n",
       "      <td>Beyond IBM: Leadership Marketing and Finance ...</td>\n",
       "      <td>1</td>\n",
       "    </tr>\n",
       "  </tbody>\n",
       "</table>\n",
       "</div>"
      ],
      "text/plain": [
       "                                           bookTitle  totalRatingCount\n",
       "0   A Light in the Storm: The Civil War Diary of ...                 4\n",
       "1                              Always Have Popsicles                 1\n",
       "2               Apple Magic (The Collector's series)                 1\n",
       "3   Ask Lily (Young Women of Faith: Lily Series, ...                 1\n",
       "4   Beyond IBM: Leadership Marketing and Finance ...                 1"
      ]
     },
     "execution_count": 30,
     "metadata": {},
     "output_type": "execute_result"
    }
   ],
   "source": [
    "#create new dataframe with totalratingcount\n",
    "book_ratingCount = (book_rating.\n",
    "                    groupby(by = ['bookTitle'])['bookRating'].\n",
    "                    count().\n",
    "                    reset_index().\n",
    "                    rename(columns= {'bookRating':'totalRatingCount'})[['bookTitle','totalRatingCount']]\n",
    "                   )\n",
    "book_ratingCount.head()"
   ]
  },
  {
   "cell_type": "code",
   "execution_count": 31,
   "id": "0deccdc8-b8ff-46e6-8d84-e90324dad6a2",
   "metadata": {},
   "outputs": [
    {
     "data": {
      "text/html": [
       "<div>\n",
       "<style scoped>\n",
       "    .dataframe tbody tr th:only-of-type {\n",
       "        vertical-align: middle;\n",
       "    }\n",
       "\n",
       "    .dataframe tbody tr th {\n",
       "        vertical-align: top;\n",
       "    }\n",
       "\n",
       "    .dataframe thead th {\n",
       "        text-align: right;\n",
       "    }\n",
       "</style>\n",
       "<table border=\"1\" class=\"dataframe\">\n",
       "  <thead>\n",
       "    <tr style=\"text-align: right;\">\n",
       "      <th></th>\n",
       "      <th>userID</th>\n",
       "      <th>ISBN</th>\n",
       "      <th>bookRating</th>\n",
       "      <th>bookTitle</th>\n",
       "      <th>totalRatingCount</th>\n",
       "    </tr>\n",
       "  </thead>\n",
       "  <tbody>\n",
       "    <tr>\n",
       "      <th>0</th>\n",
       "      <td>18995</td>\n",
       "      <td>0590567330</td>\n",
       "      <td>0</td>\n",
       "      <td>A Light in the Storm: The Civil War Diary of ...</td>\n",
       "      <td>4</td>\n",
       "    </tr>\n",
       "    <tr>\n",
       "      <th>1</th>\n",
       "      <td>35859</td>\n",
       "      <td>0590567330</td>\n",
       "      <td>0</td>\n",
       "      <td>A Light in the Storm: The Civil War Diary of ...</td>\n",
       "      <td>4</td>\n",
       "    </tr>\n",
       "    <tr>\n",
       "      <th>2</th>\n",
       "      <td>55927</td>\n",
       "      <td>0590567330</td>\n",
       "      <td>0</td>\n",
       "      <td>A Light in the Storm: The Civil War Diary of ...</td>\n",
       "      <td>4</td>\n",
       "    </tr>\n",
       "    <tr>\n",
       "      <th>3</th>\n",
       "      <td>96448</td>\n",
       "      <td>0590567330</td>\n",
       "      <td>9</td>\n",
       "      <td>A Light in the Storm: The Civil War Diary of ...</td>\n",
       "      <td>4</td>\n",
       "    </tr>\n",
       "    <tr>\n",
       "      <th>4</th>\n",
       "      <td>172742</td>\n",
       "      <td>0964147726</td>\n",
       "      <td>0</td>\n",
       "      <td>Always Have Popsicles</td>\n",
       "      <td>1</td>\n",
       "    </tr>\n",
       "  </tbody>\n",
       "</table>\n",
       "</div>"
      ],
      "text/plain": [
       "   userID        ISBN  bookRating  \\\n",
       "0   18995  0590567330           0   \n",
       "1   35859  0590567330           0   \n",
       "2   55927  0590567330           0   \n",
       "3   96448  0590567330           9   \n",
       "4  172742  0964147726           0   \n",
       "\n",
       "                                           bookTitle  totalRatingCount  \n",
       "0   A Light in the Storm: The Civil War Diary of ...                 4  \n",
       "1   A Light in the Storm: The Civil War Diary of ...                 4  \n",
       "2   A Light in the Storm: The Civil War Diary of ...                 4  \n",
       "3   A Light in the Storm: The Civil War Diary of ...                 4  \n",
       "4                              Always Have Popsicles                 1  "
      ]
     },
     "execution_count": 31,
     "metadata": {},
     "output_type": "execute_result"
    }
   ],
   "source": [
    "rating_with_totalRatingCount = book_rating.merge(book_ratingCount, left_on='bookTitle', right_on = 'bookTitle', how='right')\n",
    "rating_with_totalRatingCount.head()"
   ]
  },
  {
   "cell_type": "markdown",
   "id": "fc68cf46-4264-40ff-a182-0b4b4e1f1eb6",
   "metadata": {},
   "source": [
    "##### Statistics Summary of totalRatingCount"
   ]
  },
  {
   "cell_type": "code",
   "execution_count": 33,
   "id": "b92d6af7-fe5e-4619-8d7e-88ac66656644",
   "metadata": {},
   "outputs": [
    {
     "name": "stdout",
     "output_type": "stream",
     "text": [
      "count   241071.000\n",
      "mean         4.277\n",
      "std         16.739\n",
      "min          1.000\n",
      "25%          1.000\n",
      "50%          1.000\n",
      "75%          3.000\n",
      "max       2502.000\n",
      "Name: totalRatingCount, dtype: float64\n"
     ]
    }
   ],
   "source": [
    "pd.set_option('display.float_format', lambda x: '%.3f' % x)\n",
    "print(book_ratingCount['totalRatingCount'].describe())"
   ]
  },
  {
   "cell_type": "code",
   "execution_count": 81,
   "id": "4a740f30-b822-46b8-a940-5b04603e2adb",
   "metadata": {},
   "outputs": [
    {
     "data": {
      "image/png": "[encoded data removed]",
      "text/plain": [
       "<Figure size 640x480 with 2 Axes>"
      ]
     },
     "metadata": {},
     "output_type": "display_data"
    }
   ],
   "source": [
    "plt.subplot(1, 2, 1)\n",
    "plt.hist(book_ratingCount['totalRatingCount'], range=[1,100], bins =30, color = 'red')\n",
    "plt.title('Linear Distribution')\n",
    "plt.xlabel('total_rating_count')\n",
    "plt.ylabel('books')\n",
    "\n",
    "plt.subplot(1, 2, 2)\n",
    "plt.hist(book_ratingCount['totalRatingCount'],  color = 'red', log=True)\n",
    "plt.title('Log Distribution')\n",
    "plt.xlabel('total_rating_count')\n",
    "plt.ylabel('books (log)')\n",
    "\n",
    "plt.tight_layout()\n",
    "plt.show()"
   ]
  },
  {
   "cell_type": "markdown",
   "id": "77da21d7-4577-45c6-b336-35762d342227",
   "metadata": {},
   "source": [
    "We observe a right skew of the `totalRatingCount` data both in the statistics summary in comparing the mean vs the median, and visually in both the linear and log histogram distributions. The majority of the books in our data have received one rating. We set the rating threshold to at least 50 ratings to utilize the most popular books in our recommender system; this represents ~1% of our books."
   ]
  },
  {
   "cell_type": "code",
   "execution_count": 80,
   "id": "6b7360bc-7722-42ea-a188-37e6eb0b8551",
   "metadata": {},
   "outputs": [
    {
     "name": "stdout",
     "output_type": "stream",
     "text": [
      "0.900    7.000\n",
      "0.910    8.000\n",
      "0.920    9.000\n",
      "0.930   10.000\n",
      "0.940   11.000\n",
      "0.950   13.000\n",
      "0.960   16.000\n",
      "0.970   20.000\n",
      "0.980   29.000\n",
      "0.990   50.000\n",
      "Name: totalRatingCount, dtype: float64\n"
     ]
    }
   ],
   "source": [
    "print(book_ratingCount['totalRatingCount'].quantile(np.arange(.9,1,.01)))"
   ]
  },
  {
   "cell_type": "code",
   "execution_count": 84,
   "id": "e9e464ef-cf5a-4df5-8c96-775f299d979c",
   "metadata": {},
   "outputs": [],
   "source": [
    " # %whos\n"
   ]
  },
  {
   "cell_type": "code",
   "execution_count": 83,
   "id": "24ce6fa5-67c3-44fa-8089-f2f59a130147",
   "metadata": {},
   "outputs": [
    {
     "data": {
      "text/html": [
       "<div>\n",
       "<style scoped>\n",
       "    .dataframe tbody tr th:only-of-type {\n",
       "        vertical-align: middle;\n",
       "    }\n",
       "\n",
       "    .dataframe tbody tr th {\n",
       "        vertical-align: top;\n",
       "    }\n",
       "\n",
       "    .dataframe thead th {\n",
       "        text-align: right;\n",
       "    }\n",
       "</style>\n",
       "<table border=\"1\" class=\"dataframe\">\n",
       "  <thead>\n",
       "    <tr style=\"text-align: right;\">\n",
       "      <th></th>\n",
       "      <th>userID</th>\n",
       "      <th>ISBN</th>\n",
       "      <th>bookRating</th>\n",
       "      <th>bookTitle</th>\n",
       "      <th>totalRatingCount</th>\n",
       "    </tr>\n",
       "  </thead>\n",
       "  <tbody>\n",
       "    <tr>\n",
       "      <th>561</th>\n",
       "      <td>27740</td>\n",
       "      <td>0399143025</td>\n",
       "      <td>0</td>\n",
       "      <td>10 Lb. Penalty</td>\n",
       "      <td>61</td>\n",
       "    </tr>\n",
       "    <tr>\n",
       "      <th>562</th>\n",
       "      <td>55548</td>\n",
       "      <td>0399143025</td>\n",
       "      <td>0</td>\n",
       "      <td>10 Lb. Penalty</td>\n",
       "      <td>61</td>\n",
       "    </tr>\n",
       "    <tr>\n",
       "      <th>563</th>\n",
       "      <td>94923</td>\n",
       "      <td>0399143025</td>\n",
       "      <td>0</td>\n",
       "      <td>10 Lb. Penalty</td>\n",
       "      <td>61</td>\n",
       "    </tr>\n",
       "    <tr>\n",
       "      <th>564</th>\n",
       "      <td>108700</td>\n",
       "      <td>0399143025</td>\n",
       "      <td>0</td>\n",
       "      <td>10 Lb. Penalty</td>\n",
       "      <td>61</td>\n",
       "    </tr>\n",
       "    <tr>\n",
       "      <th>565</th>\n",
       "      <td>111747</td>\n",
       "      <td>0399143025</td>\n",
       "      <td>8</td>\n",
       "      <td>10 Lb. Penalty</td>\n",
       "      <td>61</td>\n",
       "    </tr>\n",
       "  </tbody>\n",
       "</table>\n",
       "</div>"
      ],
      "text/plain": [
       "     userID        ISBN  bookRating       bookTitle  totalRatingCount\n",
       "561   27740  0399143025           0  10 Lb. Penalty                61\n",
       "562   55548  0399143025           0  10 Lb. Penalty                61\n",
       "563   94923  0399143025           0  10 Lb. Penalty                61\n",
       "564  108700  0399143025           0  10 Lb. Penalty                61\n",
       "565  111747  0399143025           8  10 Lb. Penalty                61"
      ]
     },
     "execution_count": 83,
     "metadata": {},
     "output_type": "execute_result"
    }
   ],
   "source": [
    "popularity_threshold = 50\n",
    "rating_popular_book = rating_with_totalRatingCount.query('totalRatingCount >= @popularity_threshold')\n",
    "rating_popular_book.head()"
   ]
  },
  {
   "cell_type": "code",
   "execution_count": 89,
   "id": "d35cb84d-c7c9-4a73-9ec7-88608a95121e",
   "metadata": {},
   "outputs": [
    {
     "data": {
      "text/html": [
       "<div>\n",
       "<style scoped>\n",
       "    .dataframe tbody tr th:only-of-type {\n",
       "        vertical-align: middle;\n",
       "    }\n",
       "\n",
       "    .dataframe tbody tr th {\n",
       "        vertical-align: top;\n",
       "    }\n",
       "\n",
       "    .dataframe thead th {\n",
       "        text-align: right;\n",
       "    }\n",
       "</style>\n",
       "<table border=\"1\" class=\"dataframe\">\n",
       "  <thead>\n",
       "    <tr style=\"text-align: right;\">\n",
       "      <th></th>\n",
       "      <th>userID</th>\n",
       "      <th>ISBN</th>\n",
       "      <th>bookRating</th>\n",
       "      <th>bookTitle</th>\n",
       "      <th>totalRatingCount</th>\n",
       "      <th>Location</th>\n",
       "    </tr>\n",
       "  </thead>\n",
       "  <tbody>\n",
       "    <tr>\n",
       "      <th>0</th>\n",
       "      <td>27740</td>\n",
       "      <td>0399143025</td>\n",
       "      <td>0</td>\n",
       "      <td>10 Lb. Penalty</td>\n",
       "      <td>61</td>\n",
       "      <td>san diego, , usa</td>\n",
       "    </tr>\n",
       "    <tr>\n",
       "      <th>1</th>\n",
       "      <td>55548</td>\n",
       "      <td>0399143025</td>\n",
       "      <td>0</td>\n",
       "      <td>10 Lb. Penalty</td>\n",
       "      <td>61</td>\n",
       "      <td>chamblee, georgia, usa</td>\n",
       "    </tr>\n",
       "    <tr>\n",
       "      <th>2</th>\n",
       "      <td>94923</td>\n",
       "      <td>0399143025</td>\n",
       "      <td>0</td>\n",
       "      <td>10 Lb. Penalty</td>\n",
       "      <td>61</td>\n",
       "      <td>brick, new jersey, usa</td>\n",
       "    </tr>\n",
       "    <tr>\n",
       "      <th>3</th>\n",
       "      <td>108700</td>\n",
       "      <td>0399143025</td>\n",
       "      <td>0</td>\n",
       "      <td>10 Lb. Penalty</td>\n",
       "      <td>61</td>\n",
       "      <td>orlando, florida, usa</td>\n",
       "    </tr>\n",
       "    <tr>\n",
       "      <th>4</th>\n",
       "      <td>111747</td>\n",
       "      <td>0399143025</td>\n",
       "      <td>8</td>\n",
       "      <td>10 Lb. Penalty</td>\n",
       "      <td>61</td>\n",
       "      <td>plantation, florida, usa</td>\n",
       "    </tr>\n",
       "  </tbody>\n",
       "</table>\n",
       "</div>"
      ],
      "text/plain": [
       "   userID        ISBN  bookRating       bookTitle  totalRatingCount  \\\n",
       "0   27740  0399143025           0  10 Lb. Penalty                61   \n",
       "1   55548  0399143025           0  10 Lb. Penalty                61   \n",
       "2   94923  0399143025           0  10 Lb. Penalty                61   \n",
       "3  108700  0399143025           0  10 Lb. Penalty                61   \n",
       "4  111747  0399143025           8  10 Lb. Penalty                61   \n",
       "\n",
       "                   Location  \n",
       "0          san diego, , usa  \n",
       "1    chamblee, georgia, usa  \n",
       "2    brick, new jersey, usa  \n",
       "3     orlando, florida, usa  \n",
       "4  plantation, florida, usa  "
      ]
     },
     "execution_count": 89,
     "metadata": {},
     "output_type": "execute_result"
    }
   ],
   "source": [
    "#merge user dataframe with rating_popular_book dataframe\n",
    "combined = rating_popular_book.merge(user,left_on = 'userID', right_on = 'userID', how='left')\n",
    "\n",
    "#filter by country: US or Canada\n",
    "us_ca_user_rating = combined[combined['Location'].str.contains(\"usa|canada\")]\n",
    "us_ca_user_rating = us_ca_user_rating.drop('Age',axis=1)\n",
    "us_ca_user_rating.head()"
   ]
  },
  {
   "cell_type": "markdown",
   "id": "1966b0f5-e68f-455c-9e46-5f043f79e662",
   "metadata": {},
   "source": [
    "### Recommender System Implementation"
   ]
  },
  {
   "cell_type": "code",
   "execution_count": null,
   "id": "4876acff-b4ee-4922-9293-56a9be8598ba",
   "metadata": {},
   "outputs": [],
   "source": []
  },
  {
   "cell_type": "code",
   "execution_count": null,
   "id": "af996cd0-7bf8-4539-b2ee-39e901d0105c",
   "metadata": {},
   "outputs": [],
   "source": []
  },
  {
   "cell_type": "markdown",
   "id": "52699270-a983-4766-a00d-06fec35ac519",
   "metadata": {},
   "source": [
    "#### Resources: \n",
    "Collaborative Filtering\n",
    "+ Data Science Concepts: https://www.youtube.com/watch?v=Fmtorg_dmM0"
   ]
  },
  {
   "cell_type": "code",
   "execution_count": null,
   "id": "53dad0f6-54b5-4075-99bb-3bc442c81268",
   "metadata": {},
   "outputs": [],
   "source": []
  }
 ],
 "metadata": {
  "kernelspec": {
   "display_name": "Python 3 (ipykernel)",
   "language": "python",
   "name": "python3"
  },
  "language_info": {
   "codemirror_mode": {
    "name": "ipython",
    "version": 3
   },
   "file_extension": ".py",
   "mimetype": "text/x-python",
   "name": "python",
   "nbconvert_exporter": "python",
   "pygments_lexer": "ipython3",
   "version": "3.10.6"
  }
 },
 "nbformat": 4,
 "nbformat_minor": 5
}
